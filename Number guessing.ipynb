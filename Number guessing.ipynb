{
 "cells": [
  {
   "cell_type": "code",
   "execution_count": 1,
   "id": "29532507",
   "metadata": {},
   "outputs": [
    {
     "name": "stdout",
     "output_type": "stream",
     "text": [
      "Think a number between 1 to 40: \n",
      "20\n",
      "Choose level of difficulty:'easy' or 'hard':hard\n",
      "you have 5 remaining to guess the number:\n",
      "Guess the number:4\n",
      "Your guess is too low\n",
      "Guess again\n",
      "you have 4 remaining to guess the number:\n",
      "Guess the number:17\n",
      "Your guess is too low\n",
      "Guess again\n",
      "you have 3 remaining to guess the number:\n",
      "Guess the number:19\n",
      "Your guess is too low\n",
      "Guess again\n",
      "you have 2 remaining to guess the number:\n",
      "Guess the number:20\n",
      "Your guess is right...The answer was 20\n"
     ]
    }
   ],
   "source": [
    "import random\n",
    "EASY_LEVEL_ATTEMPTS = 10\n",
    "HARD_LEVEL_ATTEMPTS = 5\n",
    "\n",
    "def set_difficulty(level_chosen):\n",
    "    if level_chosen=='easy':\n",
    "        return EASY_LEVEL_ATTEMPTS\n",
    "    else:\n",
    "        return HARD_LEVEL_ATTEMPTS\n",
    "\n",
    "def check_answer(guessed_number,result,attempts):\n",
    "    if guessed_number < result:\n",
    "        print(\"Your guess is too low\")\n",
    "        return attempts - 1\n",
    "    elif guessed_number > result:\n",
    "        print(\"your guess is too high\")\n",
    "        return attempts - 1\n",
    "    else:\n",
    "        print(f\"Your guess is right...The answer was {result}\")\n",
    "def game():\n",
    "    print(\"Think a number between 1 to 40: \")\n",
    "    result = random.randint(1,40)\n",
    "    print(result)\n",
    "    level = input(\"Choose level of difficulty:'easy' or 'hard':\")\n",
    "    attempts = set_difficulty(level)\n",
    "    guessed_number = 0\n",
    "    \n",
    "    while guessed_number!=result:\n",
    "        print(f\"you have {attempts} remaining to guess the number:\")\n",
    "        guessed_number = int(input(\"Guess the number:\"))\n",
    "        attempts = check_answer(guessed_number,result,attempts)\n",
    "        if attempts == 0:\n",
    "            print(\"you are out of guesses...You lose!\")\n",
    "            return\n",
    "        elif guessed_number!=result:\n",
    "            print(\"Guess again\")\n",
    "game()\n",
    "        "
   ]
  },
  {
   "cell_type": "code",
   "execution_count": null,
   "id": "c594e1de",
   "metadata": {},
   "outputs": [],
   "source": []
  }
 ],
 "metadata": {
  "kernelspec": {
   "display_name": "Python 3 (ipykernel)",
   "language": "python",
   "name": "python3"
  },
  "language_info": {
   "codemirror_mode": {
    "name": "ipython",
    "version": 3
   },
   "file_extension": ".py",
   "mimetype": "text/x-python",
   "name": "python",
   "nbconvert_exporter": "python",
   "pygments_lexer": "ipython3",
   "version": "3.10.9"
  }
 },
 "nbformat": 4,
 "nbformat_minor": 5
}
